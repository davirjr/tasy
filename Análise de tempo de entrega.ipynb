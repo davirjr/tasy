{
 "cells": [
  {
   "cell_type": "code",
   "execution_count": 610,
   "id": "dca9a4b9-a2b8-4ced-925e-131eb79166a6",
   "metadata": {},
   "outputs": [],
   "source": [
    "#Importando as bibliotecas\n",
    "\n",
    "from datetime import date\n",
    "from datetime import timedelta\n",
    "from datetime import timedelta, time\n",
    "import pandas as pd\n",
    "import numpy as np"
   ]
  },
  {
   "cell_type": "code",
   "execution_count": 612,
   "id": "e36abeca-9a66-4fa3-a072-3d466dc22f41",
   "metadata": {},
   "outputs": [],
   "source": [
    "#Ajustando as colunas conforme o documento - o tasy não cria as colunas de forma que seja possível ler em python, é necessário criar manualmente. \n",
    "#copiar as colunas do documento txt e criar a lista a seguir, sem essa etapa o arquivo csv não vai criar as colunas.\n",
    "\n",
    "columns = ['Nr atendimento',\t'Setor paciente',\t'Setor prescricao',\t'Ds local estoque',\t'Cd material',\t'Ds material',\t'Nr sequencia',\t'Dt prescricao',\t'Dt entrega setor',\t'Dt recebimento setor',\t'Dt geracao lote',\t'Ds classificacao',\t'Dt ger lote',\t'Hr ger lote',\t'Dt entr setor',\t'Hr entr setor',\t'Usuario entrega']\n",
    "\n",
    "colunas_para_retirar = ['Dt recebimento setor', 'Dt ger lote', 'Dt entr setor']\n",
    "\n",
    "#Ajustando os tipos de dados das colunas conforme o documento\n",
    "#Facilita deixar cada coluna em uma linha, para ajustar a visualização dos tipos de dados - datas precisam estar como str (será convertido depois). \n",
    "\n",
    "tipos_dados = {\n",
    "    'Nr atendimento': np.int64, \n",
    "    'Setor paciente': str, \n",
    "    'Setor prescricao': str,  \n",
    "    'Ds local estoque': str, \n",
    "    'Cd material': int, \n",
    "    'Ds material': str, \n",
    "    'Nr sequencia': float, \n",
    "    'Dt prescricao': str, \n",
    "    'Dt entrega setor': str, \n",
    "    'Dt recebimento setor': str, \n",
    "    'Dt geracao lote': str, \n",
    "    'Ds classificacao': str, \n",
    "    'Dt ger lote': str, \n",
    "    'Hr ger lote': str, \n",
    "    'Dt entr setor': str, \n",
    "    'Hr entr setor': str, \n",
    "    'Usuario entrega': str}"
   ]
  },
  {
   "cell_type": "code",
   "execution_count": 614,
   "id": "1844562b-6940-4881-a685-eca1bf465500",
   "metadata": {},
   "outputs": [],
   "source": [
    "#Criando o dataframe#\n",
    "#Pontos de atenção# \n",
    "#Quando ler csv - delimitador precisda estar de acordo, a maioria das vezes o tasy vai importar como tab - usar o argumento delimiter='\\t'\n",
    "#Header vai precisar ficar como None - talvez seja necessário retirar manualmente os cabeçalhos do arquivo original (usar bloco de notas)\n",
    "#Os argumentos names e dtypes vão puxar da célula acima\n",
    "#Por algum motivo é necessário definir o engine manualmente - nesse caso deixar como 'python' - **ainda não testei em outros arquivos csv importados do tasy\n",
    "#Por algum motivo é necessário definir o encoding manualmente - nesse caso deixar como 'latin1' - **ainda não testei em outros arquivos csv importados do tasy\n",
    "\n",
    "tempos_bruto = pd.read_csv('julho1.csv', delimiter='\\t', header=None, names=columns, dtype=tipos_dados, engine='python', encoding='latin1') \n"
   ]
  },
  {
   "cell_type": "code",
   "execution_count": 616,
   "id": "730c887c-4600-4d4c-94b7-4429106cec7c",
   "metadata": {},
   "outputs": [],
   "source": [
    "# ajustando o formato das datas # \n",
    "# Pontos de atenção #\n",
    "# Usar o formato - format='%d/%m/%Y\\t%H:%M:%S' para datas no formato \"01/07/2024 10:16:00\"\n",
    "# Ainda não descobri como arrumar as colunas que tem 0024 - 'Dt ger lote','Dt entr setor' - o python assume que é do século 21. **Essas colunas não são essenciais, acho que não vou procurar essa informação. \n",
    " \n",
    "tempos_bruto['Dt prescricao'] = pd.to_datetime(tempos_bruto['Dt prescricao'], format='%d/%m/%Y\\t%H:%M:%S', errors='coerce')\n",
    "tempos_bruto['Dt recebimento setor'] = pd.to_datetime(tempos_bruto['Dt recebimento setor'], format='%d/%m/%Y\\t%H:%M:%S', errors='coerce')\n",
    "tempos_bruto['Dt geracao lote'] = pd.to_datetime(tempos_bruto['Dt geracao lote'], format='%d/%m/%Y\\t%H:%M:%S', errors='coerce')\n",
    "tempos_bruto['Dt entrega setor'] = pd.to_datetime(tempos_bruto['Dt entrega setor'], format='%d/%m/%Y\\t%H:%M:%S', errors='coerce')\n",
    "\n",
    "#As horas saem no formato com data (1900-01-01) é necessário criar uma nova coluna sem essa informação com a função .dt.time\n",
    "\n",
    "tempos_bruto['Hr ger lote'] = pd.to_datetime(tempos_bruto['Hr ger lote'], format='%H:%M:%S', errors='coerce')\n",
    "tempos_bruto['Hora de geração'] = tempos_bruto['Hr ger lote'].dt.time\n",
    "tempos_bruto['Hr entr setor'] = pd.to_datetime(tempos_bruto['Hr entr setor'], format='%H:%M:%S', errors='coerce') \n",
    "tempos_bruto['Hora de Entrega'] = tempos_bruto['Hr entr setor'].dt.time"
   ]
  },
  {
   "cell_type": "code",
   "execution_count": 618,
   "id": "e35bcc6c-d4ed-47c1-b1ec-37ecf1ef29ad",
   "metadata": {},
   "outputs": [],
   "source": [
    "# Limpar valores vazios - Normalmente saem valores vazios em colunas \"sem lote\" ou seja Nr sequencia = 0 \n",
    "# ** Provavelmente são itens jogados na conta, preciso verificar o que acontece aqui\n",
    "# Retirei todas as colunas desnecessárias - 'Dt recebimento setor', 'Dt entr setor', 'Dt ger lote','Hr ger lote','Hr entr setor' \n",
    "## Como não descobri como arrumar a questão do 0024 e as colunas não são necessárias, retirei - 'Dt ger lote','Dt entr setor'\n",
    "\n",
    "\n",
    "Tempos_Limpo0 = tempos_bruto.dropna(subset=['Ds classificacao'])\n",
    "Tempos_Limpo = Tempos_Limpo0.drop(columns=['Dt recebimento setor', 'Dt entr setor', 'Dt ger lote','Hr ger lote','Hr entr setor']) \n"
   ]
  },
  {
   "cell_type": "code",
   "execution_count": 620,
   "id": "68d647f8-2d56-4577-9d3f-c1cbf6fdba8b",
   "metadata": {},
   "outputs": [
    {
     "data": {
      "text/plain": [
       "'Mediana do Tempo de entrega de urgências - Diurno e Noturno: 00:25:06'"
      ]
     },
     "execution_count": 620,
     "metadata": {},
     "output_type": "execute_result"
    }
   ],
   "source": [
    "                                                                    ## MEDIANA ##\n",
    "\n",
    "# Fazendo os cálculos base para MEDIANA #\n",
    "# Antes de iniciar o calculo é necessário usar o timedelta nas horas. \n",
    "from datetime import timedelta # Import the timedelta object\n",
    "Tempos_Limpo['Hora de geração'] = pd.to_timedelta(Tempos_Limpo['Hora de geração'].astype(str))\n",
    "Tempos_Limpo['Hora de Entrega'] = pd.to_timedelta(Tempos_Limpo['Hora de Entrega'].astype(str))\n",
    "\n",
    "# Criar a coluna nova com o tempo de entrega. \n",
    "Tempos_Limpo['Tempo de entrega'] = (Tempos_Limpo['Hora de Entrega'] - Tempos_Limpo['Hora de geração']).apply(lambda x: str(x)[-8:])\n",
    "\n",
    "# Converter a coluna 'Tempo de entrega' para timedelta64[ns]\n",
    "Tempos_Limpo['Tempo de entrega'] = pd.to_timedelta(Tempos_Limpo['Tempo de entrega'])\n",
    "\n",
    "## Filtrando para apenas os itens na Urgência - 'agora' ##\n",
    "\n",
    "#Selecionar o valor do filtro\n",
    "valor_desejado = 'Agora'  \n",
    "\n",
    "# Filtrar o dataframe para 'agora'\n",
    "Tempos_Limpo_Urgencia = Tempos_Limpo[Tempos_Limpo['Ds classificacao'].isin([valor_desejado])].copy()  # Create a copy of the filtered DataFrame\n",
    "\n",
    "# Converter 'Tempo de entrega' para minutos usando .loc para garantir segurança\n",
    "Tempos_Limpo_Urgencia.loc[:, 'Tempo de entrega (minutos)'] = Tempos_Limpo_Urgencia['Tempo de entrega'].dt.total_seconds() / 60\n",
    "\n",
    "#  Remover NaN do 'Tempo de entrega (minutos)'\n",
    "Tempos_Limpo_Urgencia = Tempos_Limpo_Urgencia.dropna(subset=['Tempo de entrega (minutos)'])\n",
    "\n",
    "# Calcular a mediana em segundos\n",
    "mediana_tempo_entrega_segundos = Tempos_Limpo_Urgencia['Tempo de entrega'].dt.total_seconds().median()\n",
    "\n",
    "# Converter mediana para objeto timedelta\n",
    "mediana_tempo_entrega_urgencias = timedelta(seconds=mediana_tempo_entrega_segundos)\n",
    "\n",
    "# Extrair horas, minutos, and segundoss do objeto timedelta\n",
    "hours = mediana_tempo_entrega_urgencias.seconds // 3600\n",
    "minutes = (mediana_tempo_entrega_urgencias.seconds % 3600) // 60\n",
    "seconds = mediana_tempo_entrega_urgencias.seconds % 60\n",
    "\n",
    "# Mostrar a mediana em horas, minutos, and segundos\n",
    "f\"Mediana do Tempo de entrega de urgências - Diurno e Noturno: {hours:02}:{minutes:02}:{seconds:02}\"\n",
    "\n"
   ]
  },
  {
   "cell_type": "code",
   "execution_count": 622,
   "id": "e8fded76-4309-4ce4-b179-9527e213d3bd",
   "metadata": {},
   "outputs": [
    {
     "data": {
      "text/plain": [
       "'Mediana do Tempo de entrega (Noturno): 00:24:55'"
      ]
     },
     "execution_count": 622,
     "metadata": {},
     "output_type": "execute_result"
    }
   ],
   "source": [
    "                                                            ##  MEDIANA - PERÍODO NOTURNO ##\n",
    "\n",
    "# Filtrar por 'Hora de geração' antes das 06:00:00 ou depois 22:00:00\n",
    "hora_limite_inferior = time(6, 0, 0)\n",
    "hora_limite_superior = time(22, 0, 0)\n",
    "\n",
    "# Colocar 'Hora de geração' no formato timedelta\n",
    "Tempos_Limpo_Urgencia['Hora de geração'] = pd.to_timedelta(Tempos_Limpo_Urgencia['Hora de geração'].astype(str))\n",
    "\n",
    "# Extrair a hora da geração, Substituir NaT por 0\n",
    "hora_geracao_noturno = Tempos_Limpo_Urgencia['Hora de geração'].dt.components.hours.fillna(0) \n",
    "\n",
    "# Aplicar o filtro usando as horas limite (note que noturno tem | e diurno tem &, o que garante a filtragem correta)\n",
    "filtered_indices = (hora_geracao_noturno < hora_limite_inferior.hour) | (hora_geracao_noturno > hora_limite_superior.hour)\n",
    "\n",
    "# Filtrar o dataframe usando uma mascara boleana\n",
    "Tempos_Limpo_Urgencia_noturno = Tempos_Limpo_Urgencia[filtered_indices]\n",
    "\n",
    "# Aplicar o filtro para Tempos_Limpo_Urgencia\n",
    "Tempos_Limpo_Urgencia_noturno = Tempos_Limpo_Urgencia[filtered_indices]\n",
    "\n",
    "# Calcular o tempo de entrega em segundos\n",
    "mediana_tempo_entrega_segundos_noturno = Tempos_Limpo_Urgencia_noturno['Tempo de entrega'].dt.total_seconds().median()\n",
    "\n",
    "# Converter a mediana para objeto timedelta\n",
    "mediana_tempo_entrega_noturno = timedelta(seconds=mediana_tempo_entrega_segundos_noturno)\n",
    "\n",
    "# Extrair horas, minutos, and segundoss do objeto timedelta\n",
    "hours_noturno = mediana_tempo_entrega_noturno.seconds // 3600\n",
    "minutes_noturno = (mediana_tempo_entrega_noturno.seconds % 3600) // 60\n",
    "seconds_noturno = mediana_tempo_entrega_noturno.seconds % 60\n",
    "\n",
    "# Mostrar a mediana em horas, minutos, and segundos\n",
    "f\"Mediana do Tempo de entrega (Noturno): {hours_noturno:02}:{minutes_noturno:02}:{seconds_noturno:02}\""
   ]
  },
  {
   "cell_type": "code",
   "execution_count": 624,
   "id": "223b793d-a391-465e-aee9-ad65ff582e06",
   "metadata": {},
   "outputs": [
    {
     "data": {
      "text/plain": [
       "'Mediana do Tempo de entrega (Diurno): 00:25:08'"
      ]
     },
     "execution_count": 624,
     "metadata": {},
     "output_type": "execute_result"
    }
   ],
   "source": [
    "                                                        ## MEDIANA - PERÍODO DIURNO ##\n",
    "\n",
    "# Filtrar por 'Hora de geração' antes das 06:00:00 ou depois 22:00:00\n",
    "hora_limite_inferior = time(6, 0, 0)\n",
    "hora_limite_superior = time(22, 0, 0)\n",
    "\n",
    "# Colocar 'Hora de geração' no formato timedelta\n",
    "Tempos_Limpo_Urgencia['Hora de geração'] = pd.to_timedelta(Tempos_Limpo_Urgencia['Hora de geração'].astype(str))\n",
    "\n",
    "# Extrair a hora da geração, Substituir NaT por 0\n",
    "hora_geracao_noturno = Tempos_Limpo_Urgencia['Hora de geração'].dt.components.hours.fillna(0)  \n",
    "\n",
    "# Aplicar o filtro usando as horas limite (note que noturno tem | e diurno tem &, o que garante a filtragem correta)\n",
    "filtered_indices_business_hours = (hora_geracao_noturno >= hora_limite_inferior.hour) & (hora_geracao_noturno <= hora_limite_superior.hour)\n",
    "\n",
    "# Filtrar o dataframe usando uma mascara boleana\n",
    "Tempos_Limpo_Urgencia_Diurno = Tempos_Limpo_Urgencia[filtered_indices_business_hours]\n",
    "\n",
    "# Calcular o tempo de entrega em segundos\n",
    "mediana_tempo_entrega_segundos_diurno = Tempos_Limpo_Urgencia_Diurno['Tempo de entrega'].dt.total_seconds().median()\n",
    "\n",
    "# Converter a mediana para objeto timedelta\n",
    "mediana_tempo_entrega_segundos_diurno = timedelta(seconds=mediana_tempo_entrega_segundos_diurno)\n",
    "\n",
    "# Extrair horas, minutos, and segundoss do objeto timedelta\n",
    "hours_diurno = mediana_tempo_entrega_segundos_diurno.seconds // 3600\n",
    "minutes_diurno = (mediana_tempo_entrega_segundos_diurno.seconds % 3600) // 60\n",
    "seconds_business_diurno = mediana_tempo_entrega_segundos_diurno.seconds % 60\n",
    "\n",
    "# Mostrar a mediana em horas, minutos, and segundos\n",
    "f\"Mediana do Tempo de entrega (Diurno): {hours_diurno:02}:{minutes_diurno:02}:{seconds_business_diurno:02}\""
   ]
  },
  {
   "cell_type": "code",
   "execution_count": 630,
   "id": "fa6640ea-8a01-4182-8db9-2a84aea57ed7",
   "metadata": {},
   "outputs": [],
   "source": [
    "mediana_tempo_entrega_Urgencias = [f\"Mediana do Tempo de entrega de urgências - Diurno e Noturno: {hours:02}:{minutes:02}:{seconds:02}\",\n",
    "    f\"Mediana do Tempo de entrega (Noturno): {hours_noturno:02}:{minutes_noturno:02}:{seconds_noturno:02}\",\n",
    "    f\"Mediana do Tempo de entrega (Diurno): {hours_diurno:02}:{minutes_diurno:02}:{seconds_business_diurno:02}\"]"
   ]
  },
  {
   "cell_type": "code",
   "execution_count": 640,
   "id": "19a7f652-8c5d-48eb-bb10-535197b5b5e9",
   "metadata": {},
   "outputs": [
    {
     "data": {
      "text/plain": [
       "['Mediana do Tempo de entrega de urgências - Diurno e Noturno: 00:25:06',\n",
       " 'Mediana do Tempo de entrega (Noturno): 00:24:55',\n",
       " 'Mediana do Tempo de entrega (Diurno): 00:25:08']"
      ]
     },
     "execution_count": 640,
     "metadata": {},
     "output_type": "execute_result"
    }
   ],
   "source": [
    "# TESTES #\n",
    "\n",
    "# Dataframes criados #\n",
    "\n",
    "#1 - tempos_bruto\n",
    "#2 - Tempos_Limpo0 - Retirado valores nulos do nr sequencia (número do lote)\n",
    "#3 - Tempos_Limpo - Retirado todas as colunas desnecessárias - 'Dt recebimento setor', 'Dt entr setor', 'Dt ger lote','Hr ger lote','Hr entr setor' \n",
    "#4 - Tempos_Limpo_Urgencia - Filtrado apenas pro 'Agora'\n",
    "#5 - Tempos_Limpo_Urgencia_Diurno - Filtrado para 'Agora' e Horário 06 até 22h\n",
    "#6 - Tempos_Limpo_Urgencia_noturno - Filtrado para 'Agora' e Horário antes 06 ou após 22h\n",
    "\n",
    "# Calculos criados #\n",
    "\n",
    "# 1 - mediana_tempo_entrega_urgencias \n",
    "# 2 - mediana_tempo_entrega_noturno \n",
    "# 3 - mediana_tempo_entrega_segundos_diurno \n",
    "# 4 - mediana_tempo_entrega_Urgencias - lista com todos os tempos\n",
    "\n",
    "mediana_tempo_entrega_Urgencias"
   ]
  }
 ],
 "metadata": {
  "kernelspec": {
   "display_name": "Python 3 (ipykernel)",
   "language": "python",
   "name": "python3"
  },
  "language_info": {
   "codemirror_mode": {
    "name": "ipython",
    "version": 3
   },
   "file_extension": ".py",
   "mimetype": "text/x-python",
   "name": "python",
   "nbconvert_exporter": "python",
   "pygments_lexer": "ipython3",
   "version": "3.12.4"
  }
 },
 "nbformat": 4,
 "nbformat_minor": 5
}
